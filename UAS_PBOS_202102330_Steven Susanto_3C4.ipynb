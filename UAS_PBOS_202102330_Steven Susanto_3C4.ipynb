{
 "cells": [
  {
   "cell_type": "code",
   "execution_count": 6,
   "id": "bcb3d6c0",
   "metadata": {},
   "outputs": [
    {
     "name": "stdout",
     "output_type": "stream",
     "text": [
      "Masukkan sisi 1 :2\n",
      "Masukkan sisi 2 :3\n",
      "Luas persegi adalah 6\n",
      "Keliling persegi adalah 10\n"
     ]
    }
   ],
   "source": [
    "class Polygon:\n",
    "    def __init__(self, jumlah_sisi):\n",
    "        self.n = jumlah_sisi\n",
    "        self.sides = [0 for i in range(jumlah_sisi)]\n",
    "    def inputSides(self):\n",
    "        self.sides = [float(input(\"Masukkan sisi \"+str(i+1)+ \" :\")) for i in range(self.n)]\n",
    "    def dispSides(self):\n",
    "        for i in range(self.n):\n",
    "            print(\"sisi\",i+1,\"adalah\",self.sides[i])\n",
    "\n",
    "class Rectangle(Polygon):\n",
    "    def __init__(self):\n",
    "        Polygon.__init__(self,2)\n",
    "\n",
    "    def findArea(self):\n",
    "        a,b = self.sides\n",
    "        #hitung keliling\n",
    "        luas = a*b\n",
    "        keliling = 2*(a+b)\n",
    "        print(\"Luas persegi adalah %d\"%luas)\n",
    "        print(\"Keliling persegi adalah %d\"%keliling)\n",
    "\n",
    "a = Rectangle()\n",
    "a.inputSides()\n",
    "a.findArea()"
   ]
  },
  {
   "cell_type": "code",
   "execution_count": 19,
   "id": "9b88eb4f",
   "metadata": {},
   "outputs": [
    {
     "name": "stdout",
     "output_type": "stream",
     "text": [
      "Nama   : Steven Susanto\n",
      "Alamat : Jln. Merdeka Gg. Bangau No. 26\n",
      "NIM    : 202102330\n",
      "\n",
      "Berikut ini adalah data pribadi yang telah anda input \n",
      "Nama   :  Steven Susanto\n",
      "Alamat :  Jln. Merdeka Gg. Bangau No. 26\n",
      "NIM    :  202102330\n"
     ]
    }
   ],
   "source": [
    "class bio():\n",
    "    def _init_(self,nama,alamat, nim):\n",
    "        \n",
    "        print(\"Inputkan Data Pribadi Anda\")\n",
    "        \n",
    "    def input(self):\n",
    "        self.nama = input(\"Nama   : \")\n",
    "        self.alamat = input(\"Alamat : \")\n",
    "        self.nim = input(\"NIM    : \")\n",
    "        \n",
    "class datapribadi(bio):\n",
    "    def cetak(self):\n",
    "        print (\"\\nBerikut ini adalah data pribadi yang telah anda input \")\n",
    "        print (\"Nama   : \", self.nama)\n",
    "        print (\"Alamat : \", self.alamat)\n",
    "        print (\"NIM    : \", self.nim)\n",
    "        \n",
    "data = datapribadi()\n",
    "data.input()\n",
    "data.cetak()"
   ]
  },
  {
   "cell_type": "code",
   "execution_count": 20,
   "id": "4114304d",
   "metadata": {},
   "outputs": [
    {
     "name": "stdout",
     "output_type": "stream",
     "text": [
      "PILIHLAH OPERASI.\n",
      "1.PENAMBAHAN\n",
      "2.PENGURANG\n",
      "3.PERKALI\n",
      "4.PEMBAGI\n",
      "MASUKKAN PILIHANMU(1 / 2 / 3 / 4): 2\n",
      "MASUKKAN ANGKA PERTAMA : 25\n",
      "MASUKKAN ANGKA KEDUA   : 25\n",
      "25.0 - 25.0 = 0.0\n",
      "ULANGI KEMBALI ? (yes/no): yes\n",
      "MASUKKAN PILIHANMU(1 / 2 / 3 / 4): 2\n",
      "MASUKKAN ANGKA PERTAMA : 25\n",
      "MASUKKAN ANGKA KEDUA   : 25\n",
      "25.0 - 25.0 = 0.0\n",
      "ULANGI KEMBALI ? (yes/no): no\n"
     ]
    }
   ],
   "source": [
    "# KALKULATOR \n",
    "\n",
    "# RUMUS PENAMBAHAN\n",
    "def tambah(x, y):\n",
    "    return x + y\n",
    "\n",
    "# RUMUS PENGURANGAN\n",
    "def kurang(x, y):\n",
    "    return x - y\n",
    "\n",
    "# RUMUS PERKALIAN\n",
    "def kali(x, y):\n",
    "    return x * y\n",
    "\n",
    "# RUMUS PEMBAGIAN\n",
    "def bagi(x, y):\n",
    "    return x / y\n",
    "\n",
    "\n",
    "print(\"PILIHLAH OPERASI.\")\n",
    "print(\"1.PENAMBAHAN\")\n",
    "print(\"2.PENGURANG\")\n",
    "print(\"3.PERKALI\")\n",
    "print(\"4.PEMBAGI\")\n",
    "\n",
    "while True:\n",
    "    # MASUKKAN DATA\n",
    "    choice = input(\"MASUKKAN PILIHANMU(1 / 2 / 3 / 4): \")\n",
    "\n",
    "    # MEMILIH NOMOR SEBAGAI RUMUS YANG INGIN DIGUNAKAN\n",
    "    if choice in ('1', '2', '3', '4'):\n",
    "        a = float(input(\"MASUKKAN ANGKA PERTAMA : \"))\n",
    "        b = float(input(\"MASUKKAN ANGKA KEDUA   : \"))\n",
    "\n",
    "        if choice == '1':\n",
    "            print(a, \"+\", b, \"=\", tambah(a, b))\n",
    "\n",
    "        elif choice == '2':\n",
    "            print(a, \"-\", b, \"=\", kurang(a, b))\n",
    "\n",
    "        elif choice == '3':\n",
    "            print(a, \"*\", b, \"=\", kali(a, b))\n",
    "\n",
    "        elif choice == '4':\n",
    "            print(a, \"/\", b, \"=\", bagi(a, b))\n",
    "        \n",
    "        # MEMILIH LANJUT ATAU TIDAK\n",
    "        next_calculation = input(\"ULANGI KEMBALI ? (yes/no): \")\n",
    "        if next_calculation == \"no\":\n",
    "            break\n",
    "    \n",
    "    else:\n",
    "        print(\"Invalid Input\")"
   ]
  },
  {
   "cell_type": "code",
   "execution_count": null,
   "id": "5d695fca",
   "metadata": {},
   "outputs": [],
   "source": []
  },
  {
   "cell_type": "code",
   "execution_count": null,
   "id": "6e0673fe",
   "metadata": {},
   "outputs": [],
   "source": []
  }
 ],
 "metadata": {
  "kernelspec": {
   "display_name": "Python 3",
   "language": "python",
   "name": "python3"
  },
  "language_info": {
   "codemirror_mode": {
    "name": "ipython",
    "version": 3
   },
   "file_extension": ".py",
   "mimetype": "text/x-python",
   "name": "python",
   "nbconvert_exporter": "python",
   "pygments_lexer": "ipython3",
   "version": "3.8.8"
  }
 },
 "nbformat": 4,
 "nbformat_minor": 5
}
